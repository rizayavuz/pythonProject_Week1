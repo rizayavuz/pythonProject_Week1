{
 "cells": [
  {
   "cell_type": "code",
   "execution_count": 1,
   "id": "5365e82c",
   "metadata": {
    "execution": {
     "iopub.execute_input": "2024-08-29T22:38:52.233404Z",
     "iopub.status.busy": "2024-08-29T22:38:52.232943Z",
     "iopub.status.idle": "2024-08-29T22:38:52.250909Z",
     "shell.execute_reply": "2024-08-29T22:38:52.249697Z"
    },
    "papermill": {
     "duration": 0.026772,
     "end_time": "2024-08-29T22:38:52.253450",
     "exception": false,
     "start_time": "2024-08-29T22:38:52.226678",
     "status": "completed"
    },
    "tags": []
   },
   "outputs": [
    {
     "data": {
      "text/plain": [
       "bool"
      ]
     },
     "execution_count": 1,
     "metadata": {},
     "output_type": "execute_result"
    }
   ],
   "source": [
    "x = 8\n",
    "type(x)\n",
    "\n",
    "y = 3.2\n",
    "type(y)\n",
    "\n",
    "z = 8j + 18\n",
    "type(z)\n",
    "\n",
    "a = \"Hello World\"\n",
    "type(a)\n",
    "\n",
    "b = True\n",
    "type(b)\n",
    "\n",
    "c = 45 < 22\n",
    "type(c)"
   ]
  },
  {
   "cell_type": "code",
   "execution_count": 2,
   "id": "3adcc979",
   "metadata": {
    "execution": {
     "iopub.execute_input": "2024-08-29T22:38:52.264630Z",
     "iopub.status.busy": "2024-08-29T22:38:52.264187Z",
     "iopub.status.idle": "2024-08-29T22:38:52.274983Z",
     "shell.execute_reply": "2024-08-29T22:38:52.273814Z"
    },
    "papermill": {
     "duration": 0.018999,
     "end_time": "2024-08-29T22:38:52.277471",
     "exception": false,
     "start_time": "2024-08-29T22:38:52.258472",
     "status": "completed"
    },
    "tags": []
   },
   "outputs": [
    {
     "data": {
      "text/plain": [
       "set"
      ]
     },
     "execution_count": 2,
     "metadata": {},
     "output_type": "execute_result"
    }
   ],
   "source": [
    "#List\n",
    "l = [1, 2, 3, 4,\"String\",3.2, False]\n",
    "type(l)\n",
    "# Sıralıdır\n",
    "# Kapsayıcıdır\n",
    "# Değiştirilebilir\n",
    "\n",
    "#Dictionary\n",
    "d = {\"Name\": \"Jake\",\n",
    "     \"Age\": [27,56],\n",
    "     \"Adress\": \"Downtown\"}\n",
    "type(d)\n",
    "# Değiştirilebilir\n",
    "# Kapsayıcı\n",
    "# Sırasız\n",
    "# Key değerleri farklı olacak\n",
    "\n",
    "#Tuple\n",
    "t = (\"Machine Learning\", \"Data Science\")\n",
    "type(t)\n",
    "# Değiştirilemez\n",
    "# Kapsayıcı\n",
    "# Sıralı\n",
    "\n",
    "#Set\n",
    "s = {\"Python\", \"Machine Learning\", \"Data Science\",\"Python\"}\n",
    "type(s)\n",
    "# Değiştirilebilir\n",
    "# Sırasız + Eşsiz\n",
    "# Kapsayıcı"
   ]
  },
  {
   "cell_type": "code",
   "execution_count": 3,
   "id": "84656489",
   "metadata": {
    "execution": {
     "iopub.execute_input": "2024-08-29T22:38:52.287975Z",
     "iopub.status.busy": "2024-08-29T22:38:52.287544Z",
     "iopub.status.idle": "2024-08-29T22:38:52.295761Z",
     "shell.execute_reply": "2024-08-29T22:38:52.294634Z"
    },
    "papermill": {
     "duration": 0.016332,
     "end_time": "2024-08-29T22:38:52.298226",
     "exception": false,
     "start_time": "2024-08-29T22:38:52.281894",
     "status": "completed"
    },
    "tags": []
   },
   "outputs": [
    {
     "data": {
      "text/plain": [
       "['THE',\n",
       " 'GOAL',\n",
       " 'IS',\n",
       " 'TO',\n",
       " 'TURN',\n",
       " 'DATA',\n",
       " 'INTO',\n",
       " 'INFORMATION',\n",
       " 'AND',\n",
       " 'INFORMATION',\n",
       " 'INTO',\n",
       " 'INSIGHT']"
      ]
     },
     "execution_count": 3,
     "metadata": {},
     "output_type": "execute_result"
    }
   ],
   "source": [
    "## SORU 2 ['THE', 'GOAL', 'IS', 'TO', 'TURN', 'DATA', 'INTO', 'INFORMATION', 'AND', 'INFORMATION', 'INTO', 'INSIGHT']\n",
    "text = \"The goal is to turn data into information, and information into insight.\"\n",
    "\n",
    "text.upper().replace(',',' ').replace('.',' ').split()\n",
    "\n"
   ]
  },
  {
   "cell_type": "code",
   "execution_count": 4,
   "id": "6ecbf339",
   "metadata": {
    "execution": {
     "iopub.execute_input": "2024-08-29T22:38:52.309168Z",
     "iopub.status.busy": "2024-08-29T22:38:52.308731Z",
     "iopub.status.idle": "2024-08-29T22:38:52.316023Z",
     "shell.execute_reply": "2024-08-29T22:38:52.314871Z"
    },
    "papermill": {
     "duration": 0.015643,
     "end_time": "2024-08-29T22:38:52.318454",
     "exception": false,
     "start_time": "2024-08-29T22:38:52.302811",
     "status": "completed"
    },
    "tags": []
   },
   "outputs": [],
   "source": [
    "## SORU 3: Verilen liste için aşağıdaki görevleri yapınız.\n",
    "\n",
    "lst = [\"D\",\"A\",\"T\",\"A\",\"S\",\"C\",\"I\",\"E\",\"N\",\"C\",\"E\"]\n",
    "\n",
    "# Adım 1: Verilen listenin eleman sayısına bakın.\n",
    "\n",
    "len(lst)\n",
    "\n",
    "# Adım 2: Sıfırıncı ve onuncu index'teki elemanları çağırın.\n",
    "\n",
    "lst[0], lst[10]\n",
    "\n",
    "# Adım 3: Verilen liste üzerinden [\"D\",\"A\",\"T\",\"A\"] listesi oluşturun.\n",
    "\n",
    "lst[0:4]\n",
    "\n",
    "# Adım 4: Sekizinci index'teki elemanı silin\n",
    "\n",
    "lst.pop(8)\n",
    "\n",
    "# Adım 5: Yeni bir eleman ekleyin.\n",
    "\n",
    "lst.append('R')\n",
    "\n",
    "# Adım 6: Sekizinci index'e  \"N\" elemanını tekrar ekleyin.\n",
    "\n",
    "lst.insert(8,'N')\n",
    "\n"
   ]
  },
  {
   "cell_type": "code",
   "execution_count": 5,
   "id": "98c5fb8e",
   "metadata": {
    "execution": {
     "iopub.execute_input": "2024-08-29T22:38:52.329458Z",
     "iopub.status.busy": "2024-08-29T22:38:52.329016Z",
     "iopub.status.idle": "2024-08-29T22:38:52.339969Z",
     "shell.execute_reply": "2024-08-29T22:38:52.338784Z"
    },
    "papermill": {
     "duration": 0.019342,
     "end_time": "2024-08-29T22:38:52.342470",
     "exception": false,
     "start_time": "2024-08-29T22:38:52.323128",
     "status": "completed"
    },
    "tags": []
   },
   "outputs": [
    {
     "data": {
      "text/plain": [
       "['Spain', 22]"
      ]
     },
     "execution_count": 5,
     "metadata": {},
     "output_type": "execute_result"
    }
   ],
   "source": [
    "###SORU 4 Verilen sözlük yapısına aşağıdaki adımları uygulayınız.\n",
    "###############################################\n",
    "\n",
    "dict = {'Christian': [\"America\",18],\n",
    "        'Daisy':[\"England\",12],\n",
    "        'Antonio':[\"Spain\",22],\n",
    "        'Dante':[\"Italy\",25]}\n",
    "\n",
    "# Adım 1: Key değerlerine erişiniz.\n",
    "dict.keys()\n",
    "\n",
    "# Adım 2: Value'lara erişiniz.\n",
    "dict.values()\n",
    "\n",
    "# Adım 3: Daisy key'ine ait 12 değerini 13 olarak güncelleyiniz.\n",
    "dict.update({\"Daisy\": [\"England\",13]})\n",
    "dict['Daisy'] = [\"England\",13]\n",
    "dict[\"Daisy\"][1]=14\n",
    "\n",
    "# Adım 4: Key değeri Ahmet value değeri [Turkey,24] olan yeni bir değer ekleyiniz.\n",
    "dict.update({\"Ahmet\":[\"Turkey\",24]})\n",
    "\n",
    "# Adım 5: Antonio'yu dictionary'den siliniz.\n",
    "dict.pop(\"Antonio\")"
   ]
  },
  {
   "cell_type": "code",
   "execution_count": 6,
   "id": "a7d8f8b6",
   "metadata": {
    "execution": {
     "iopub.execute_input": "2024-08-29T22:38:52.354616Z",
     "iopub.status.busy": "2024-08-29T22:38:52.354186Z",
     "iopub.status.idle": "2024-08-29T22:38:52.363900Z",
     "shell.execute_reply": "2024-08-29T22:38:52.362891Z"
    },
    "papermill": {
     "duration": 0.018611,
     "end_time": "2024-08-29T22:38:52.366225",
     "exception": false,
     "start_time": "2024-08-29T22:38:52.347614",
     "status": "completed"
    },
    "tags": []
   },
   "outputs": [
    {
     "data": {
      "text/plain": [
       "([2, 18, 22], [13, 93])"
      ]
     },
     "execution_count": 6,
     "metadata": {},
     "output_type": "execute_result"
    }
   ],
   "source": [
    "# SORU 5: Arguman olarak bir liste alan, listenin içerisindeki tek ve çift sayıları ayrı listelere atıyan ve bu listeleri return\n",
    "# eden fonksiyon yazınız.\n",
    "###############################################\n",
    "\n",
    "l = [2,13,18,93,22]\n",
    "\n",
    "def funci(string):\n",
    "    tekliste =[]\n",
    "    ciftliste =[]\n",
    "\n",
    "    for i in string:\n",
    "        if i % 2 == 0:\n",
    "            ciftliste.append(i)\n",
    "        else :\n",
    "            tekliste.append(i)\n",
    "    return ciftliste,tekliste\n",
    "\n",
    "funci(l)\n",
    "#a,b = funci(l)"
   ]
  },
  {
   "cell_type": "code",
   "execution_count": 7,
   "id": "1ec61c20",
   "metadata": {
    "execution": {
     "iopub.execute_input": "2024-08-29T22:38:52.379029Z",
     "iopub.status.busy": "2024-08-29T22:38:52.377995Z",
     "iopub.status.idle": "2024-08-29T22:38:52.386887Z",
     "shell.execute_reply": "2024-08-29T22:38:52.385639Z"
    },
    "papermill": {
     "duration": 0.018127,
     "end_time": "2024-08-29T22:38:52.389571",
     "exception": false,
     "start_time": "2024-08-29T22:38:52.371444",
     "status": "completed"
    },
    "tags": []
   },
   "outputs": [
    {
     "name": "stdout",
     "output_type": "stream",
     "text": [
      "Muhendislik Fakultesi 1 . öğrenci: Ali\n",
      "Muhendislik Fakultesi 2 . öğrenci: Veli\n",
      "Muhendislik Fakultesi 3 . öğrenci: Ayşe\n",
      "Tıp Fakultesi 1 . öğrenci: Talat\n",
      "Tıp Fakultesi 2 . öğrenci: Zeynep\n",
      "Tıp Fakultesi 3 . öğrenci: Ece\n"
     ]
    }
   ],
   "source": [
    "#SORU 6 Aşağıda verilen listede mühendislik ve tıp fakülterinde dereceye giren öğrencilerin isimleri bulunmaktadır.\n",
    "# Sırasıyla ilk üç öğrenci mühendislik fakültesinin başarı sırasını temsil ederken son üç öğrenci de tıp fakültesi\n",
    "# öğrenci sırasına aittir.\n",
    "# Enumarate kullanarak öğrenci derecelerini fakülte özelinde yazdırınız.\n",
    "\n",
    "ogrenciler = [\"Ali\", \"Veli\", \"Ayşe\", \"Talat\", \"Zeynep\", \"Ece\"]\n",
    "\n",
    "A = ogrenciler[0:3]\n",
    "B = ogrenciler[3:6]\n",
    "\n",
    "for index, ogr in enumerate(A,1):\n",
    "    print(\"Muhendislik Fakultesi\", index, \".\", \"öğrenci:\", ogr)\n",
    "for index, ogr in enumerate(B, 1):\n",
    "    print(\"Tıp Fakultesi\", index, \".\", \"öğrenci:\", ogr)\n"
   ]
  },
  {
   "cell_type": "code",
   "execution_count": 8,
   "id": "db294fd7",
   "metadata": {
    "execution": {
     "iopub.execute_input": "2024-08-29T22:38:52.402472Z",
     "iopub.status.busy": "2024-08-29T22:38:52.401999Z",
     "iopub.status.idle": "2024-08-29T22:38:52.409341Z",
     "shell.execute_reply": "2024-08-29T22:38:52.408240Z"
    },
    "papermill": {
     "duration": 0.01743,
     "end_time": "2024-08-29T22:38:52.412443",
     "exception": false,
     "start_time": "2024-08-29T22:38:52.395013",
     "status": "completed"
    },
    "tags": []
   },
   "outputs": [
    {
     "name": "stdout",
     "output_type": "stream",
     "text": [
      "Kredi 3 olan CMP1005 kodlu dersin kontenjanı 30 kişidir.\n",
      "Kredi 4 olan PSY1005 kodlu dersin kontenjanı 75 kişidir.\n",
      "Kredi 2 olan HUK1005 kodlu dersin kontenjanı 150 kişidir.\n",
      "Kredi 4 olan SEN2204 kodlu dersin kontenjanı 25 kişidir.\n"
     ]
    }
   ],
   "source": [
    "# SORU 7: Aşağıda 3 adet liste verilmiştir. Listelerde sırası ile bir dersin kodu, kredisi ve kontenjan bilgileri yer\n",
    "# almaktadır. Zip kullanarak ders bilgilerini bastırınız.\n",
    "###############################################\n",
    "\n",
    "ders_kodu = [\"CMP1005\", \"PSY1005\", \"HUK1005\", \"SEN2204\"]\n",
    "kredi = [3, 4, 2, 4]\n",
    "kontenjan = [30, 75, 150, 25]\n",
    "\n",
    "for k, kod, kon in zip(kredi, ders_kodu, kontenjan):\n",
    "    print(f\"Kredi {k} olan {kod} kodlu dersin kontenjanı {kon} kişidir.\")\n"
   ]
  },
  {
   "cell_type": "code",
   "execution_count": 9,
   "id": "9d1d2bcc",
   "metadata": {
    "execution": {
     "iopub.execute_input": "2024-08-29T22:38:52.425130Z",
     "iopub.status.busy": "2024-08-29T22:38:52.424142Z",
     "iopub.status.idle": "2024-08-29T22:38:52.432532Z",
     "shell.execute_reply": "2024-08-29T22:38:52.431472Z"
    },
    "papermill": {
     "duration": 0.017323,
     "end_time": "2024-08-29T22:38:52.435021",
     "exception": false,
     "start_time": "2024-08-29T22:38:52.417698",
     "status": "completed"
    },
    "tags": []
   },
   "outputs": [
    {
     "name": "stdout",
     "output_type": "stream",
     "text": [
      "2de olan 1de olmayan: {'lambda', 'function', 'qcut', 'miuul'}\n"
     ]
    }
   ],
   "source": [
    "# SORU 8: Aşağıda 2 adet set verilmiştir.\n",
    "# Sizden istenilen eğer 1. küme 2. kümeyi kapsiyor ise ortak elemanlarını eğer kapsamıyor ise 2. kümenin 1. kümeden farkını yazdıracak fonksiyonu tanımlamanız beklenmektedir.\n",
    "###############################################\n",
    "\n",
    "kume1 = set([\"data\", \"python\"])\n",
    "kume2 = set([\"data\", \"function\", \"qcut\", \"lambda\", \"python\", \"miuul\"])\n",
    "\n",
    "def kume_gorevi(kumea, kumeb):\n",
    "    if kumea.issuperset(kumeb):\n",
    "        ortaklar = kumea.intersection(kumeb)\n",
    "        print(\"Ortak elemanlar:\", ortaklar)\n",
    "    else:\n",
    "        farklı = kumeb.difference(kumea)\n",
    "        print(\"2de olan 1de olmayan:\", farklı)\n",
    "kume_gorevi(kume1, kume2)"
   ]
  }
 ],
 "metadata": {
  "kaggle": {
   "accelerator": "none",
   "dataSources": [],
   "dockerImageVersionId": 30761,
   "isGpuEnabled": false,
   "isInternetEnabled": false,
   "language": "python",
   "sourceType": "notebook"
  },
  "kernelspec": {
   "display_name": "Python 3",
   "language": "python",
   "name": "python3"
  },
  "language_info": {
   "codemirror_mode": {
    "name": "ipython",
    "version": 3
   },
   "file_extension": ".py",
   "mimetype": "text/x-python",
   "name": "python",
   "nbconvert_exporter": "python",
   "pygments_lexer": "ipython3",
   "version": "3.10.14"
  },
  "papermill": {
   "default_parameters": {},
   "duration": 3.714181,
   "end_time": "2024-08-29T22:38:52.861575",
   "environment_variables": {},
   "exception": null,
   "input_path": "__notebook__.ipynb",
   "output_path": "__notebook__.ipynb",
   "parameters": {},
   "start_time": "2024-08-29T22:38:49.147394",
   "version": "2.6.0"
  }
 },
 "nbformat": 4,
 "nbformat_minor": 5
}
